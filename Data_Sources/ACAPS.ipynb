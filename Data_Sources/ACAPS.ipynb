{
 "cells": [
  {
   "cell_type": "markdown",
   "id": "28a0364e",
   "metadata": {},
   "source": [
    "# 'Assessment Capacities Project'(ACAPS)"
   ]
  },
  {
   "cell_type": "code",
   "execution_count": 23,
   "id": "b9ef5bdc",
   "metadata": {},
   "outputs": [],
   "source": [
    "\n",
    "import numpy as np\n",
    "import pandas as pd\n",
    "import matplotlib.pyplot as plt\n",
    "import seaborn as sns\n",
    "from sklearn.decomposition import PCA\n",
    "from sklearn.preprocessing import StandardScaler\n",
    "import warnings\n",
    "warnings.filterwarnings(\"ignore\")"
   ]
  },
  {
   "cell_type": "code",
   "execution_count": 24,
   "id": "a38690a3",
   "metadata": {},
   "outputs": [],
   "source": [
    "df = pd.read_csv(\"ACAPS.csv\").convert_dtypes()"
   ]
  },
  {
   "cell_type": "markdown",
   "id": "a698da63",
   "metadata": {},
   "source": [
    "### Rows and columns in the dataset"
   ]
  },
  {
   "cell_type": "code",
   "execution_count": 25,
   "id": "fb01feb6",
   "metadata": {},
   "outputs": [
    {
     "name": "stdout",
     "output_type": "stream",
     "text": [
      "Rows: 58725, Columns: 6\n"
     ]
    }
   ],
   "source": [
    "rows, columns = df.shape\n",
    "print(f\"Rows: {rows}, Columns: {columns}\")"
   ]
  },
  {
   "cell_type": "code",
   "execution_count": 26,
   "id": "ded6f1b2",
   "metadata": {},
   "outputs": [],
   "source": [
    "df['date'] = pd.to_datetime(df['yearmon'], errors='coerce').dt.date\n",
    "df = df.convert_dtypes()\n",
    "df = df.set_index(['date']).sort_index()\n",
    "df = df.drop(columns=['yearmon'])"
   ]
  },
  {
   "cell_type": "markdown",
   "id": "e861dc3c",
   "metadata": {},
   "source": [
    "### Sample data and features "
   ]
  },
  {
   "cell_type": "code",
   "execution_count": 27,
   "id": "f240a4ca",
   "metadata": {},
   "outputs": [
    {
     "data": {
      "text/html": [
       "<div>\n",
       "<style scoped>\n",
       "    .dataframe tbody tr th:only-of-type {\n",
       "        vertical-align: middle;\n",
       "    }\n",
       "\n",
       "    .dataframe tbody tr th {\n",
       "        vertical-align: top;\n",
       "    }\n",
       "\n",
       "    .dataframe thead th {\n",
       "        text-align: right;\n",
       "    }\n",
       "</style>\n",
       "<table border=\"1\" class=\"dataframe\">\n",
       "  <thead>\n",
       "    <tr style=\"text-align: right;\">\n",
       "      <th>date</th>\n",
       "      <th>2025-03-01</th>\n",
       "      <th>2025-03-01</th>\n",
       "      <th>2025-03-01</th>\n",
       "      <th>2025-03-01</th>\n",
       "      <th>2025-03-01</th>\n",
       "    </tr>\n",
       "  </thead>\n",
       "  <tbody>\n",
       "    <tr>\n",
       "      <th>iso3</th>\n",
       "      <td>BLZ</td>\n",
       "      <td>TUV</td>\n",
       "      <td>ZMB</td>\n",
       "      <td>TUN</td>\n",
       "      <td>ZWE</td>\n",
       "    </tr>\n",
       "    <tr>\n",
       "      <th>region_code</th>\n",
       "      <td>LAC</td>\n",
       "      <td>EAP</td>\n",
       "      <td>SSA</td>\n",
       "      <td>MNA</td>\n",
       "      <td>SSA</td>\n",
       "    </tr>\n",
       "    <tr>\n",
       "      <th>pop</th>\n",
       "      <td>411106.0</td>\n",
       "      <td>9816.0</td>\n",
       "      <td>20723965.0</td>\n",
       "      <td>12200431.0</td>\n",
       "      <td>16340822.0</td>\n",
       "    </tr>\n",
       "    <tr>\n",
       "      <th>ACAPS_risk_level</th>\n",
       "      <td>&lt;NA&gt;</td>\n",
       "      <td>&lt;NA&gt;</td>\n",
       "      <td>&lt;NA&gt;</td>\n",
       "      <td>&lt;NA&gt;</td>\n",
       "      <td>&lt;NA&gt;</td>\n",
       "    </tr>\n",
       "    <tr>\n",
       "      <th>ACAPS_risk_title</th>\n",
       "      <td>&lt;NA&gt;</td>\n",
       "      <td>&lt;NA&gt;</td>\n",
       "      <td>&lt;NA&gt;</td>\n",
       "      <td>&lt;NA&gt;</td>\n",
       "      <td>&lt;NA&gt;</td>\n",
       "    </tr>\n",
       "  </tbody>\n",
       "</table>\n",
       "</div>"
      ],
      "text/plain": [
       "date             2025-03-01 2025-03-01  2025-03-01  2025-03-01  2025-03-01\n",
       "iso3                    BLZ        TUV         ZMB         TUN         ZWE\n",
       "region_code             LAC        EAP         SSA         MNA         SSA\n",
       "pop                411106.0     9816.0  20723965.0  12200431.0  16340822.0\n",
       "ACAPS_risk_level       <NA>       <NA>        <NA>        <NA>        <NA>\n",
       "ACAPS_risk_title       <NA>       <NA>        <NA>        <NA>        <NA>"
      ]
     },
     "execution_count": 27,
     "metadata": {},
     "output_type": "execute_result"
    }
   ],
   "source": [
    "df.tail().T"
   ]
  },
  {
   "cell_type": "markdown",
   "id": "c3f0a41d",
   "metadata": {},
   "source": [
    "### Data structure, data types, and non-null counts"
   ]
  },
  {
   "cell_type": "code",
   "execution_count": 28,
   "id": "98679de8",
   "metadata": {},
   "outputs": [
    {
     "data": {
      "text/plain": [
       "<bound method DataFrame.info of            iso3 region_code         pop  ACAPS_risk_level ACAPS_risk_title\n",
       "date                                                                      \n",
       "1989-01-01  AFG         SAR  11874088.0              <NA>             <NA>\n",
       "1989-01-01  PSE         MNA        <NA>              <NA>             <NA>\n",
       "1989-01-01  GAB         SSA    957138.0              <NA>             <NA>\n",
       "1989-01-01  ARM         ECA   3443100.0              <NA>             <NA>\n",
       "1989-01-01  BEN         SSA   5121657.0              <NA>             <NA>\n",
       "...         ...         ...         ...               ...              ...\n",
       "2025-03-01  BLZ         LAC    411106.0              <NA>             <NA>\n",
       "2025-03-01  TUV         EAP      9816.0              <NA>             <NA>\n",
       "2025-03-01  ZMB         SSA  20723965.0              <NA>             <NA>\n",
       "2025-03-01  TUN         MNA  12200431.0              <NA>             <NA>\n",
       "2025-03-01  ZWE         SSA  16340822.0              <NA>             <NA>\n",
       "\n",
       "[58725 rows x 5 columns]>"
      ]
     },
     "execution_count": 28,
     "metadata": {},
     "output_type": "execute_result"
    }
   ],
   "source": [
    "df.info"
   ]
  },
  {
   "cell_type": "markdown",
   "id": "1fdcb7a4",
   "metadata": {},
   "source": [
    "### Descriptive statistics of categorical columns"
   ]
  },
  {
   "cell_type": "code",
   "execution_count": 29,
   "id": "b37c39db",
   "metadata": {},
   "outputs": [
    {
     "data": {
      "text/html": [
       "<div>\n",
       "<style scoped>\n",
       "    .dataframe tbody tr th:only-of-type {\n",
       "        vertical-align: middle;\n",
       "    }\n",
       "\n",
       "    .dataframe tbody tr th {\n",
       "        vertical-align: top;\n",
       "    }\n",
       "\n",
       "    .dataframe thead th {\n",
       "        text-align: right;\n",
       "    }\n",
       "</style>\n",
       "<table border=\"1\" class=\"dataframe\">\n",
       "  <thead>\n",
       "    <tr style=\"text-align: right;\">\n",
       "      <th></th>\n",
       "      <th>count</th>\n",
       "      <th>unique</th>\n",
       "      <th>top</th>\n",
       "      <th>freq</th>\n",
       "    </tr>\n",
       "  </thead>\n",
       "  <tbody>\n",
       "    <tr>\n",
       "      <th>iso3</th>\n",
       "      <td>58725</td>\n",
       "      <td>135</td>\n",
       "      <td>AFG</td>\n",
       "      <td>435</td>\n",
       "    </tr>\n",
       "    <tr>\n",
       "      <th>region_code</th>\n",
       "      <td>58725</td>\n",
       "      <td>6</td>\n",
       "      <td>SSA</td>\n",
       "      <td>20445</td>\n",
       "    </tr>\n",
       "    <tr>\n",
       "      <th>ACAPS_risk_title</th>\n",
       "      <td>150</td>\n",
       "      <td>125</td>\n",
       "      <td>A new locust invasion in eastern Africa worsen...</td>\n",
       "      <td>6</td>\n",
       "    </tr>\n",
       "  </tbody>\n",
       "</table>\n",
       "</div>"
      ],
      "text/plain": [
       "                  count unique  \\\n",
       "iso3              58725    135   \n",
       "region_code       58725      6   \n",
       "ACAPS_risk_title    150    125   \n",
       "\n",
       "                                                                top   freq  \n",
       "iso3                                                            AFG    435  \n",
       "region_code                                                     SSA  20445  \n",
       "ACAPS_risk_title  A new locust invasion in eastern Africa worsen...      6  "
      ]
     },
     "execution_count": 29,
     "metadata": {},
     "output_type": "execute_result"
    }
   ],
   "source": [
    "df.describe(include='string').T"
   ]
  },
  {
   "cell_type": "markdown",
   "id": "db4fe09a",
   "metadata": {},
   "source": [
    "### Descriptive statistics of numerical columns"
   ]
  },
  {
   "cell_type": "code",
   "execution_count": 30,
   "id": "831136b3",
   "metadata": {},
   "outputs": [
    {
     "data": {
      "text/html": [
       "<div>\n",
       "<style scoped>\n",
       "    .dataframe tbody tr th:only-of-type {\n",
       "        vertical-align: middle;\n",
       "    }\n",
       "\n",
       "    .dataframe tbody tr th {\n",
       "        vertical-align: top;\n",
       "    }\n",
       "\n",
       "    .dataframe thead th {\n",
       "        text-align: right;\n",
       "    }\n",
       "</style>\n",
       "<table border=\"1\" class=\"dataframe\">\n",
       "  <thead>\n",
       "    <tr style=\"text-align: right;\">\n",
       "      <th></th>\n",
       "      <th>count</th>\n",
       "      <th>mean</th>\n",
       "      <th>std</th>\n",
       "      <th>min</th>\n",
       "      <th>25%</th>\n",
       "      <th>50%</th>\n",
       "      <th>75%</th>\n",
       "      <th>max</th>\n",
       "    </tr>\n",
       "  </thead>\n",
       "  <tbody>\n",
       "    <tr>\n",
       "      <th>pop</th>\n",
       "      <td>58713.0</td>\n",
       "      <td>41259533.486332</td>\n",
       "      <td>153319719.021372</td>\n",
       "      <td>8662.0</td>\n",
       "      <td>2108617.0</td>\n",
       "      <td>8303151.0</td>\n",
       "      <td>25698326.0</td>\n",
       "      <td>1438069596.0</td>\n",
       "    </tr>\n",
       "    <tr>\n",
       "      <th>ACAPS_risk_level</th>\n",
       "      <td>150.0</td>\n",
       "      <td>2.313333</td>\n",
       "      <td>0.519895</td>\n",
       "      <td>1.0</td>\n",
       "      <td>2.0</td>\n",
       "      <td>2.0</td>\n",
       "      <td>3.0</td>\n",
       "      <td>3.0</td>\n",
       "    </tr>\n",
       "  </tbody>\n",
       "</table>\n",
       "</div>"
      ],
      "text/plain": [
       "                    count             mean               std     min  \\\n",
       "pop               58713.0  41259533.486332  153319719.021372  8662.0   \n",
       "ACAPS_risk_level    150.0         2.313333          0.519895     1.0   \n",
       "\n",
       "                        25%        50%         75%           max  \n",
       "pop               2108617.0  8303151.0  25698326.0  1438069596.0  \n",
       "ACAPS_risk_level        2.0        2.0         3.0           3.0  "
      ]
     },
     "execution_count": 30,
     "metadata": {},
     "output_type": "execute_result"
    }
   ],
   "source": [
    "df.describe().T"
   ]
  },
  {
   "cell_type": "markdown",
   "id": "a0b9d17c",
   "metadata": {},
   "source": [
    "### Deatils of missing values in the features"
   ]
  },
  {
   "cell_type": "code",
   "execution_count": 31,
   "id": "21543df5",
   "metadata": {},
   "outputs": [
    {
     "data": {
      "text/html": [
       "<div>\n",
       "<style scoped>\n",
       "    .dataframe tbody tr th:only-of-type {\n",
       "        vertical-align: middle;\n",
       "    }\n",
       "\n",
       "    .dataframe tbody tr th {\n",
       "        vertical-align: top;\n",
       "    }\n",
       "\n",
       "    .dataframe thead th {\n",
       "        text-align: right;\n",
       "    }\n",
       "</style>\n",
       "<table border=\"1\" class=\"dataframe\">\n",
       "  <thead>\n",
       "    <tr style=\"text-align: right;\">\n",
       "      <th></th>\n",
       "      <th>Missing Count</th>\n",
       "      <th>Missing Percentage (%)</th>\n",
       "    </tr>\n",
       "  </thead>\n",
       "  <tbody>\n",
       "    <tr>\n",
       "      <th>ACAPS_risk_title</th>\n",
       "      <td>58575</td>\n",
       "      <td>99.74</td>\n",
       "    </tr>\n",
       "    <tr>\n",
       "      <th>ACAPS_risk_level</th>\n",
       "      <td>58575</td>\n",
       "      <td>99.74</td>\n",
       "    </tr>\n",
       "    <tr>\n",
       "      <th>pop</th>\n",
       "      <td>12</td>\n",
       "      <td>0.02</td>\n",
       "    </tr>\n",
       "    <tr>\n",
       "      <th>iso3</th>\n",
       "      <td>0</td>\n",
       "      <td>0.00</td>\n",
       "    </tr>\n",
       "    <tr>\n",
       "      <th>region_code</th>\n",
       "      <td>0</td>\n",
       "      <td>0.00</td>\n",
       "    </tr>\n",
       "  </tbody>\n",
       "</table>\n",
       "</div>"
      ],
      "text/plain": [
       "                  Missing Count  Missing Percentage (%)\n",
       "ACAPS_risk_title          58575                   99.74\n",
       "ACAPS_risk_level          58575                   99.74\n",
       "pop                          12                    0.02\n",
       "iso3                          0                    0.00\n",
       "region_code                   0                    0.00"
      ]
     },
     "execution_count": 31,
     "metadata": {},
     "output_type": "execute_result"
    }
   ],
   "source": [
    "total_rows = len(df)\n",
    "missing_count = df.isnull().sum()\n",
    "missing_percent = (missing_count / total_rows * 100).round(2)\n",
    "missing_df = pd.DataFrame({'Missing Count': missing_count, 'Missing Percentage (%)': missing_percent})\n",
    "missing_df = missing_df.sort_values(by='Missing Percentage (%)', ascending=False)\n",
    "missing_df"
   ]
  },
  {
   "cell_type": "code",
   "execution_count": 32,
   "id": "0eebf1e2",
   "metadata": {},
   "outputs": [],
   "source": [
    "# Step 1: Create missing summary\n",
    "total_rows = len(df)\n",
    "missing_count = df.isnull().sum()\n",
    "missing_percent = (missing_count / total_rows * 100).round(2)\n",
    "\n",
    "missing_df = pd.DataFrame({\n",
    "    'Missing Count': missing_count,\n",
    "    'Missing Percentage (%)': missing_percent\n",
    "}).sort_values(by='Missing Percentage (%)', ascending=False)\n",
    "\n",
    "# Step 2: Drop columns with >70% overall missing AND >20% missing in last 5 years of the data\n",
    "for col in missing_df.index:\n",
    "    if missing_percent[col] > 70:\n",
    "        if 'date' in df.columns and pd.api.types.is_datetime64_any_dtype(df['date']):\n",
    "            max_date = df['date'].max()\n",
    "            five_years_ago = max_date - pd.DateOffset(years=5)\n",
    "            recent_df = df[df['date'] >= five_years_ago]\n",
    "            recent_missing = recent_df[col].isnull().sum()\n",
    "            recent_total = recent_df[col].shape[0]\n",
    "            if recent_total == 0 or (recent_missing / recent_total * 100) > 20:\n",
    "                df = df.drop(columns=[col])\n",
    "        else:\n",
    "            df = df.drop(columns=[col])  # Drop if no date context\n",
    "\n",
    "# Step 3: Extract clean numeric data\n",
    "numeric_df = df.select_dtypes(include=['number'])\n",
    "numeric_df = numeric_df.replace([np.inf, -np.inf], np.nan)\n",
    "numeric_df = numeric_df.dropna(axis=1, how='all')  # Drop all-NaN columns\n",
    "numeric_df = numeric_df.dropna(axis=0, how='any')  # Drop rows with any NaN\n"
   ]
  },
  {
   "cell_type": "code",
   "execution_count": 33,
   "id": "91a281e0",
   "metadata": {},
   "outputs": [],
   "source": [
    "missing_by_iso3 = df.groupby('iso3').count()\n",
    "missing_by_month = df.groupby('date').count()"
   ]
  },
  {
   "cell_type": "markdown",
   "id": "30b14e28",
   "metadata": {},
   "source": [
    "### Availibility of data based on country"
   ]
  },
  {
   "cell_type": "code",
   "execution_count": 34,
   "id": "eb450421",
   "metadata": {},
   "outputs": [
    {
     "data": {
      "image/png": "[encoded data removed]",
      "text/plain": [
       "<Figure size 1200x600 with 2 Axes>"
      ]
     },
     "metadata": {},
     "output_type": "display_data"
    }
   ],
   "source": [
    "plt.figure(figsize=(12, 6))\n",
    "sns.heatmap(missing_by_iso3.astype(float).T, cmap='Blues')\n",
    "plt.title('Data Availability by Country (ISO3)')\n",
    "plt.show()"
   ]
  },
  {
   "cell_type": "markdown",
   "id": "b4c6be44",
   "metadata": {},
   "source": [
    "### Availability of data by month"
   ]
  },
  {
   "cell_type": "code",
   "execution_count": 35,
   "id": "1490fb7d",
   "metadata": {},
   "outputs": [
    {
     "data": {
      "image/png": "[encoded data removed]",
      "text/plain": [
       "<Figure size 1200x600 with 2 Axes>"
      ]
     },
     "metadata": {},
     "output_type": "display_data"
    }
   ],
   "source": [
    "plt.figure(figsize=(12, 6))\n",
    "sns.heatmap(missing_by_month.astype(float).T, cmap='Blues')\n",
    "plt.title('Data Availabilit by Month')\n",
    "plt.show()"
   ]
  },
  {
   "cell_type": "code",
   "execution_count": 36,
   "id": "efa0fb2d",
   "metadata": {},
   "outputs": [],
   "source": [
    "#Correlation Matrix\n",
    "correlation_matrix_df = numeric_df.corr(method='pearson')"
   ]
  },
  {
   "cell_type": "code",
   "execution_count": 37,
   "id": "5b3e281b",
   "metadata": {},
   "outputs": [
    {
     "data": {
      "text/html": [
       "<div>\n",
       "<style scoped>\n",
       "    .dataframe tbody tr th:only-of-type {\n",
       "        vertical-align: middle;\n",
       "    }\n",
       "\n",
       "    .dataframe tbody tr th {\n",
       "        vertical-align: top;\n",
       "    }\n",
       "\n",
       "    .dataframe thead th {\n",
       "        text-align: right;\n",
       "    }\n",
       "</style>\n",
       "<table border=\"1\" class=\"dataframe\">\n",
       "  <thead>\n",
       "    <tr style=\"text-align: right;\">\n",
       "      <th></th>\n",
       "      <th>pop</th>\n",
       "    </tr>\n",
       "  </thead>\n",
       "  <tbody>\n",
       "    <tr>\n",
       "      <th>pop</th>\n",
       "      <td>1.0</td>\n",
       "    </tr>\n",
       "  </tbody>\n",
       "</table>\n",
       "</div>"
      ],
      "text/plain": [
       "     pop\n",
       "pop  1.0"
      ]
     },
     "execution_count": 37,
     "metadata": {},
     "output_type": "execute_result"
    }
   ],
   "source": [
    "correlation_matrix_df"
   ]
  },
  {
   "cell_type": "markdown",
   "id": "bb1c6440",
   "metadata": {},
   "source": [
    "### Correlation between features "
   ]
  },
  {
   "cell_type": "code",
   "execution_count": 38,
   "id": "641a34a6",
   "metadata": {},
   "outputs": [
    {
     "data": {
      "image/png": "[encoded data removed]",
      "text/plain": [
       "<Figure size 1200x1000 with 2 Axes>"
      ]
     },
     "metadata": {},
     "output_type": "display_data"
    }
   ],
   "source": [
    "plt.figure(figsize=(12, 10))\n",
    "sns.heatmap(correlation_matrix_df, cmap='vlag', vmin=-1, vmax=1, annot=True, fmt=\".1f\")\n",
    "plt.title('Correlation Matrix')\n",
    "plt.ylabel('Measures')\n",
    "plt.tight_layout()\n",
    "plt.show()"
   ]
  },
  {
   "cell_type": "code",
   "execution_count": 39,
   "id": "0af5ed36",
   "metadata": {},
   "outputs": [
    {
     "name": "stdout",
     "output_type": "stream",
     "text": [
      "⚠️ No correlation pairs above 0.5 or below -0.5 were found.\n",
      "✅ Correlation pairs saved to ACAPS_correlations_filtered.xlsx\n"
     ]
    }
   ],
   "source": [
    "# Extract upper triangle of correlation matrix without the diagonal\n",
    "corr_matrix = correlation_matrix_df.copy()\n",
    "mask = np.triu(np.ones(corr_matrix.shape), k=1).astype(bool)\n",
    "filtered_corr = corr_matrix.where(mask)\n",
    "\n",
    "# Stack and filter for |correlation| > 0.5\n",
    "tidy_corr = (\n",
    "    filtered_corr.stack()\n",
    "    .reset_index()\n",
    "    .rename(columns={'level_0': 'Variable 1', 'level_1': 'Variable 2', 0: 'Correlation'})\n",
    ")\n",
    "tidy_corr = tidy_corr[(tidy_corr['Correlation'] > 0.5) | (tidy_corr['Correlation'] < -0.5)]\n",
    "if not tidy_corr.empty:\n",
    "    tidy_corr.to_excel(\"ACAPS_correlations_filtered.xlsx\", index=False)\n",
    "    print(\"✅ Correlation pairs saved to ACAPS_correlations_filtered.xlsx\")\n",
    "else:\n",
    "    print(\"⚠️ No correlation pairs above 0.5 or below -0.5 were found.\")\n",
    "\n",
    "# Add source column\n",
    "source='ACAPS'\n",
    "tidy_corr.insert(0, 'Source', source)\n",
    "\n",
    "# Save to Excel\n",
    "tidy_corr.to_excel(f\"{source}_correlations_filtered.xlsx\", index=False)\n",
    "\n",
    "print(f\"✅ Correlation pairs saved to {source}_correlations_filtered.xlsx\")\n"
   ]
  },
  {
   "cell_type": "markdown",
   "id": "5b34b176",
   "metadata": {},
   "source": [
    "#### Since both the columns (indicators) are dropped, further analysis is not possible. Note: The columns are dropped because missing perecentage for each is approx. 99%"
   ]
  }
 ],
 "metadata": {
  "kernelspec": {
   "display_name": "Python 3",
   "language": "python",
   "name": "python3"
  },
  "language_info": {
   "codemirror_mode": {
    "name": "ipython",
    "version": 3
   },
   "file_extension": ".py",
   "mimetype": "text/x-python",
   "name": "python",
   "nbconvert_exporter": "python",
   "pygments_lexer": "ipython3",
   "version": "3.12.10"
  }
 },
 "nbformat": 4,
 "nbformat_minor": 5
}
